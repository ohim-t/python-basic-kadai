{
  "nbformat": 4,
  "nbformat_minor": 0,
  "metadata": {
    "colab": {
      "provenance": []
    },
    "kernelspec": {
      "name": "python3",
      "display_name": "Python 3"
    },
    "language_info": {
      "name": "python"
    }
  },
  "cells": [
    {
      "cell_type": "markdown",
      "source": [],
      "metadata": {
        "id": "qIzZt8YkG6Pm"
      }
    },
    {
      "cell_type": "code",
      "source": [
        "\"\"\"上辺：10cm\n",
        "下辺：20cm\n",
        "高さ：5cm\n",
        "\n",
        "公式：台形の面積 =（上辺＋下辺）× 高さ ÷ 2 \"\"\"\n",
        "upper_side=10\n",
        "lower_side=20\n",
        "hight=5\n",
        "area_trepezoid=(10 + 20) * 5 /2\n",
        "print(f\"{area_trepezoid}cm\")"
      ],
      "metadata": {
        "colab": {
          "base_uri": "https://localhost:8080/"
        },
        "id": "qO7BZepVQjHv",
        "outputId": "8a686061-8d37-4bc1-ef26-20eea9909ade"
      },
      "execution_count": 19,
      "outputs": [
        {
          "output_type": "stream",
          "name": "stdout",
          "text": [
            "75.0cm\n"
          ]
        }
      ]
    },
    {
      "cell_type": "code",
      "source": [],
      "metadata": {
        "id": "p_9VrLs3Q4ig"
      },
      "execution_count": null,
      "outputs": []
    }
  ]
}