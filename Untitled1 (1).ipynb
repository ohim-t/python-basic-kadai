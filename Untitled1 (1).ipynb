{
  "nbformat": 4,
  "nbformat_minor": 0,
  "metadata": {
    "colab": {
      "provenance": []
    },
    "kernelspec": {
      "name": "python3",
      "display_name": "Python 3"
    },
    "language_info": {
      "name": "python"
    }
  },
  "cells": [
    {
      "cell_type": "code",
      "source": [
        "\"\"\"\n",
        "if文を用いて、以下の条件分岐をするコードを記述してください。値はprint関数で出力してください。\n",
        "\n",
        "・変数varが、3の倍数の場合は「Fizz」を出力\n",
        "・変数varが、5の倍数の場合は「Buzz」を出力\n",
        "・変数varが、3の倍数と5の倍数の両方に該当する場合は「FizzBuzz」を出力\n",
        "・上記のどの場合にも該当しない場合は、変数varの値を出力\n",
        "\n",
        "ただし、変数varは正の整数とします。\n",
        "\"\"\"\n",
        "import random\n",
        "\n",
        "var = random.randint(0, 100)\n",
        "if var % 3 ==0 and var % 5 == 0 :\n",
        "    print(f\"{var}なのでFizzBuzz\")\n",
        "elif var % 3 == 0 :\n",
        "    print(f\"{var}なのでFizz\")\n",
        "elif var % 5 == 0 :\n",
        "    print(f\"{var}なのでBuzz\")\n",
        "else :\n",
        "    print(var)\n"
      ],
      "metadata": {
        "colab": {
          "base_uri": "https://localhost:8080/"
        },
        "id": "zQ4KD0NP8Dhk",
        "outputId": "2a1a085c-32d5-46f3-c458-c4649d3d0ca5"
      },
      "execution_count": 29,
      "outputs": [
        {
          "output_type": "stream",
          "name": "stdout",
          "text": [
            "68\n"
          ]
        }
      ]
    },
    {
      "cell_type": "code",
      "source": [
        "\n"
      ],
      "metadata": {
        "id": "6vX_IsrtDeo9"
      },
      "execution_count": 13,
      "outputs": []
    },
    {
      "cell_type": "code",
      "source": [],
      "metadata": {
        "id": "puC8D-O7EE5D"
      },
      "execution_count": null,
      "outputs": []
    }
  ]
}