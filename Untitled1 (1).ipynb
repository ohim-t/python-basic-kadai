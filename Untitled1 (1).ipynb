{
  "nbformat": 4,
  "nbformat_minor": 0,
  "metadata": {
    "colab": {
      "provenance": []
    },
    "kernelspec": {
      "name": "python3",
      "display_name": "Python 3"
    },
    "language_info": {
      "name": "python"
    }
  },
  "cells": [
    {
      "cell_type": "code",
      "source": [
        "\"\"\"\n",
        "「ユーザー名を引数に取り、あいさつ文を返す関数」を作成したいです。\n",
        "\n",
        "そこで生成AIを利用し、以下の条件を満たす関数とその実行結果を生成してください。\n",
        "\n",
        "コードはPythonで記述する\n",
        "関数名は greet_userにする\n",
        "引数名は user_nameで、文字列型にする\n",
        "戻り値は文字列型にする\n",
        "引数で受け取ったユーザー名を使い、こんにちは、○○さん！というあいさつを返す\n",
        "引数が空文字の場合は、こんにちは、ゲストさん！というあいさつを返す\n",
        "\"\"\"\n",
        "def greet_user(user_name : str)-> str:\n",
        "    if user_name :\n",
        "      print(f\"こんにちは、{user_name}さん!\")\n",
        "    else :\n",
        "      print(\"こんにちは、ゲストさん!\")\n",
        "\n",
        "greet_user(\"ミッキー\")\n",
        "greet_user(\"\")\n",
        "\n"
      ],
      "metadata": {
        "colab": {
          "base_uri": "https://localhost:8080/"
        },
        "id": "zQ4KD0NP8Dhk",
        "outputId": "3b374a00-550a-42b9-a9ff-165bb55b62cd"
      },
      "execution_count": 11,
      "outputs": [
        {
          "output_type": "stream",
          "name": "stdout",
          "text": [
            "こんにちは、ミッキーさん!\n",
            "こんにちは、ゲストさん!\n"
          ]
        }
      ]
    },
    {
      "cell_type": "code",
      "source": [
        "\n"
      ],
      "metadata": {
        "id": "6vX_IsrtDeo9"
      },
      "execution_count": null,
      "outputs": []
    },
    {
      "cell_type": "code",
      "source": [],
      "metadata": {
        "id": "puC8D-O7EE5D"
      },
      "execution_count": null,
      "outputs": []
    }
  ]
}