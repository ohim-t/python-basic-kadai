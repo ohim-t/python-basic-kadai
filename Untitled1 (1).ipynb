{
  "nbformat": 4,
  "nbformat_minor": 0,
  "metadata": {
    "colab": {
      "provenance": []
    },
    "kernelspec": {
      "name": "python3",
      "display_name": "Python 3"
    },
    "language_info": {
      "name": "python"
    }
  },
  "cells": [
    {
      "cell_type": "code",
      "source": [
        "\"\"\"\n",
        "名前(name)と年齢(age)の属性を持つHumanクラスを作成してください。\n",
        "nameとageを標準出力(print)するメソッド(printinfo)を追加してください。\n",
        "\n",
        "Humanクラスのインスタンスは、変数に代入してプログラム内で使用してください。\n",
        "\"\"\"\n",
        "class Human :\n",
        "    def __init__(self, name : str , age : int ):\n",
        "        self.name = name\n",
        "        self.age = age\n",
        "    def printinfo(self , sep = \" \"):\n",
        "        print( self.name , self.age , sep = \" \")\n",
        "\n",
        "Humans = Human(\"ohim\", 22 )\n",
        "Humans.printinfo()\n",
        "\n"
      ],
      "metadata": {
        "colab": {
          "base_uri": "https://localhost:8080/"
        },
        "id": "zQ4KD0NP8Dhk",
        "outputId": "75306f69-2b5c-4c7a-a40e-c2afe66ef75c"
      },
      "execution_count": 15,
      "outputs": [
        {
          "output_type": "stream",
          "name": "stdout",
          "text": [
            "ohim 22\n"
          ]
        }
      ]
    },
    {
      "cell_type": "code",
      "source": [
        "\n"
      ],
      "metadata": {
        "id": "6vX_IsrtDeo9"
      },
      "execution_count": 7,
      "outputs": []
    },
    {
      "cell_type": "code",
      "source": [],
      "metadata": {
        "id": "puC8D-O7EE5D"
      },
      "execution_count": 6,
      "outputs": []
    }
  ]
}